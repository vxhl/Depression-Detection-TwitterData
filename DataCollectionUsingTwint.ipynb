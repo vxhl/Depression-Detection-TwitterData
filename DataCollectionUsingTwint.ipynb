{
 "cells": [
  {
   "cell_type": "markdown",
   "metadata": {},
   "source": [
    "# 1. Data Collection Phase"
   ]
  },
  {
   "cell_type": "markdown",
   "metadata": {},
   "source": [
    "For data collection we will be using an open source project called [TWINT](https://github.com/twintproject/twint), which is an advanced Twitter scrapping tool written in python. This allows us to scrap tweets from twitter profile without using the twitter API.\n",
    "This is the most convenient for our purposes since we can do some fancy stuff like searching and scrapping up tweets based on each individual topic as well as on what time of the day it was posted, since most depressive tweets may come during the midnight hours."
   ]
  },
  {
   "cell_type": "markdown",
   "metadata": {},
   "source": [
    "So I came across a project from 2 years ago by [swcwang](https://github.com/swcwang/depression-detection#futureplan) and what they did during the data collection phase was getting the hashtags for tweets with hashtags related to depressive symptoms like - #loneliness, #hopelessness #depression, etc. \n",
    "\n",
    "This posed a question to me, that most people do not really add a hashtag to their depressive tweets. \n",
    "So this is making me wonder if i should really be using the hashtags as reference to get such tweets. \n",
    "\n",
    "While this is true, they also did further analysis like discarding tweets containing hyperlinks, or basically too many hashtags, so that's intersting too. Well wonder how this will turn out but let us try and get the data ourselves. Of course we are going to clean it ourselves either way, but I want to know how the collection actually happens.\n"
   ]
  },
  {
   "cell_type": "code",
   "execution_count": 15,
   "metadata": {},
   "outputs": [],
   "source": [
    "import nest_asyncio\n",
    "nest_asyncio.apply()\n",
    "import pandas as pd\n",
    "import twint\n"
   ]
  },
  {
   "cell_type": "code",
   "execution_count": 16,
   "metadata": {},
   "outputs": [],
   "source": [
    "import pandas as pd\n",
    "import re"
   ]
  },
  {
   "cell_type": "markdown",
   "metadata": {},
   "source": [
    "### Next we add the depression tags \n",
    "`#depression #anxiety #mentalhealth #sad #mentalillness #ptsd #depressed  #suicide  #pain #sadness #trauma`\n",
    "\n",
    "The above seem the most relevant for now. Will add later if I find more."
   ]
  },
  {
   "cell_type": "code",
   "execution_count": 27,
   "metadata": {},
   "outputs": [],
   "source": [
    "# depressed_tags = [\"#depression\", \"#anxiety\" ,\"#mentalhealth\" ,\"#sad\", \"#mentalillness\" ,\"#ptsd\" ,\"#depressed\"  ,\"#suicide\"  ,\"#pain\", \"#sadness\" ,\"#trauma\"]\n",
    "\n",
    "# t = twint.Config()\n",
    "# t.Username = \"vxhlogs\"\n",
    "# twint.run.Followers(t)"
   ]
  },
  {
   "cell_type": "code",
   "execution_count": 28,
   "metadata": {},
   "outputs": [],
   "source": [
    "# !pip3 install --user --upgrade -e git+https://github.com/twintproject/twint.git@origin/master#egg=twint"
   ]
  },
  {
   "cell_type": "markdown",
   "metadata": {},
   "source": [
    "# SO TWINT IS BUSTED RN\n",
    "Taking a look into the github repo this is what people found the error to be\n",
    "\n",
    "`_usr.followers = int(ur['data']['user']['legacy']['followers_count'])`\n",
    "\n",
    "Is simpler terms it uses the `legacy` attribute and therefore would not work from the 15th of December 2020.\n",
    "A contributor to the GitHub repo, namely @himanshudabas, also mentioned this in a reply to an identical issue:\n",
    "\n",
    "> That's because twitter killed the no js (mobile version) version of twitter on 15th December. Followers were scraped using that version."
   ]
  },
  {
   "cell_type": "markdown",
   "metadata": {},
   "source": [
    "So basically I need to look for some other means to get the data. Let's see now. "
   ]
  }
 ],
 "metadata": {
  "kernelspec": {
   "display_name": "Python 3",
   "language": "python",
   "name": "python3"
  },
  "language_info": {
   "codemirror_mode": {
    "name": "ipython",
    "version": 3
   },
   "file_extension": ".py",
   "mimetype": "text/x-python",
   "name": "python",
   "nbconvert_exporter": "python",
   "pygments_lexer": "ipython3",
   "version": "3.8.5"
  }
 },
 "nbformat": 4,
 "nbformat_minor": 4
}
